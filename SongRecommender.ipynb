{
  "nbformat": 4,
  "nbformat_minor": 0,
  "metadata": {
    "colab": {
      "name": "SongRecommender.ipynb",
      "provenance": []
    },
    "kernelspec": {
      "name": "python3",
      "display_name": "Python 3"
    }
  },
  "cells": [
    {
      "cell_type": "markdown",
      "metadata": {
        "id": "m_1I1vWXEiIU"
      },
      "source": [
        "This is just some setup code.\n",
        "\n",
        "It is basically how we start with Bisquick rather than with wheat and a millstone."
      ]
    },
    {
      "cell_type": "code",
      "metadata": {
        "id": "m2aSyJDyEb5p"
      },
      "source": [
        "from pandas import read_csv\n",
        "from math import sqrt\n",
        "from scipy.spatial.distance import euclidean,cosine"
      ],
      "execution_count": null,
      "outputs": []
    },
    {
      "cell_type": "markdown",
      "metadata": {
        "id": "ZgK-xrXYykr0"
      },
      "source": [
        "# Load in data and variables"
      ]
    },
    {
      "cell_type": "markdown",
      "metadata": {
        "id": "TYKvuBW-Hzj2"
      },
      "source": [
        "We're going to scale up from the example by using the data you filled in.\n",
        "\n",
        "Take a look at the file here: https://gist.github.com/jackbandy/5cd988ab5c3d95b79219364dce7ee5ae\n",
        "\n",
        "We'll load that file with the following code:"
      ]
    },
    {
      "cell_type": "code",
      "metadata": {
        "id": "MlDbDC_wzApt"
      },
      "source": [
        "data_url = 'https://gist.githubusercontent.com/jackbandy/5cd988ab5c3d95b79219364dce7ee5ae/raw/18e286e7c69a28de222eb0fa17a59d280a858cba/song-ratings.csv'\n",
        "ratings = read_csv(data_url,index_col=0)\n",
        "ratings=ratings.fillna(0)"
      ],
      "execution_count": null,
      "outputs": []
    },
    {
      "cell_type": "markdown",
      "metadata": {
        "id": "z4Gkw2C6Idtl"
      },
      "source": [
        "Let's get an idea of what \"ratings\" *variable* looks like"
      ]
    },
    {
      "cell_type": "code",
      "metadata": {
        "id": "LXI5dV5TIlED",
        "colab": {
          "base_uri": "https://localhost:8080/",
          "height": 391
        },
        "outputId": "6fff3380-0622-4f22-9357-d11006bbb768"
      },
      "source": [
        "print(ratings)"
      ],
      "execution_count": null,
      "outputs": [
        {
          "output_type": "stream",
          "text": [
            "           One Dance (Drake)  ...  Never Really Over (Katy Perry)\n",
            "Name                          ...                                \n",
            "Jack                     5.0  ...                             5.0\n",
            "Nick                     4.0  ...                             5.0\n",
            "Trevor                   2.0  ...                             3.0\n",
            "Billy                    5.0  ...                             5.0\n",
            "Jewel                    5.0  ...                             5.0\n",
            "Meg                      5.0  ...                             5.0\n",
            "Joe                      3.0  ...                             3.0\n",
            "Lee                      0.0  ...                             4.0\n",
            "Hannah                   4.0  ...                             0.0\n",
            "justine                  5.0  ...                             1.0\n",
            "Adala                    4.0  ...                             0.0\n",
            "abby                     3.0  ...                             3.0\n",
            "Jerry                    3.0  ...                             3.0\n",
            "Sherry                   4.0  ...                             5.0\n",
            "Christine                2.0  ...                             3.0\n",
            "Julia                    3.0  ...                             0.0\n",
            "Rebecca                  5.0  ...                             3.0\n",
            "Elizabeth                2.0  ...                             0.0\n",
            "\n",
            "[18 rows x 24 columns]\n"
          ],
          "name": "stdout"
        }
      ]
    },
    {
      "cell_type": "markdown",
      "metadata": {
        "id": "-F4w1DfxJQzp"
      },
      "source": [
        "\"ratings\" is actually a matrix/spreadsheet of variables. Each row is a person, each column is a song, and each cell is a number.\n",
        "\n",
        "Let's look at the songs by printing the columns:"
      ]
    },
    {
      "cell_type": "code",
      "metadata": {
        "id": "xoPeow8qJYIR",
        "colab": {
          "base_uri": "https://localhost:8080/",
          "height": 272
        },
        "outputId": "2b8890f4-b7bc-4ad6-fff1-b8af1ccf541e"
      },
      "source": [
        "print(ratings.columns)"
      ],
      "execution_count": null,
      "outputs": [
        {
          "output_type": "stream",
          "text": [
            "Index(['One Dance (Drake)', 'Lean On (Major Lazer)',\n",
            "       'Sunflower (Post Malone and Swae Lee)',\n",
            "       'Somebody That I Used To Know (Gotye)', 'Rolling in the Deep (Adele)',\n",
            "       'Can't Hold Us (Macklemore)', '7 Rings (Ariana Grande)',\n",
            "       'Wake Me Up (Avicii)', 'Love The Way You Lie (Eminem and Rihanna)',\n",
            "       'bad guy (Billie Eilish)', 'Rather Be (Clean Bandit and Jess Glynne)',\n",
            "       'Call Me Maybe (Carly Rae Jepsen)', 'We Are Young (fun.)',\n",
            "       'Shape of You (Ed Sheeran)', 'Closer (The Chainsmokers)',\n",
            "       'Cheerleader (OMI)', 'Radioactive (Imagine Dragons)',\n",
            "       'Señorita (Shawn Mendes and Camila Cabello)',\n",
            "       'Airplanes (B.o.B and Hayley Williams)', 'Want (Birdtalker)',\n",
            "       'Without You (David Guetta and Usher)', 'Half Love (Red Hearse)',\n",
            "       'Old Town Road - Remix (Lil Nas X and Billy Ray Cyrus)',\n",
            "       'Never Really Over (Katy Perry)'],\n",
            "      dtype='object')\n"
          ],
          "name": "stdout"
        }
      ]
    },
    {
      "cell_type": "markdown",
      "metadata": {
        "id": "5ISNdtiKmcrW"
      },
      "source": [
        "# Make a distance function"
      ]
    },
    {
      "cell_type": "markdown",
      "metadata": {
        "id": "nIeUGCK1JiMK"
      },
      "source": [
        "Now, we need a *function* to measure distance. We will define that like so:"
      ]
    },
    {
      "cell_type": "code",
      "metadata": {
        "id": "nsMGlaN-KSIx"
      },
      "source": [
        "def distance(person1,person2):\n",
        "  distance = euclidean(person1,person2)\n",
        "  return distance"
      ],
      "execution_count": null,
      "outputs": []
    },
    {
      "cell_type": "markdown",
      "metadata": {
        "id": "xrSyHfYyMTKy"
      },
      "source": [
        "Now, we can look at similarity between users! We'll make a *variable* to represent each user."
      ]
    },
    {
      "cell_type": "code",
      "metadata": {
        "id": "gam7LojmMWRW",
        "colab": {
          "base_uri": "https://localhost:8080/",
          "height": 85
        },
        "outputId": "930ca334-6546-4063-d130-6a2ca475453f"
      },
      "source": [
        "jack=ratings.loc['Jack']\n",
        "nick=ratings.loc['Nick']\n",
        "trevor=ratings.loc['Trevor']\n",
        "\n",
        "print(\"Distance between Jack and Nick:\")\n",
        "print(distance(jack,nick))\n",
        "print(\"Distance between Jack and Trevor:\")\n",
        "print(distance(jack,trevor))"
      ],
      "execution_count": null,
      "outputs": [
        {
          "output_type": "stream",
          "text": [
            "Distance between Jack and Nick:\n",
            "10.63014581273465\n",
            "Distance between Jack and Trevor:\n",
            "13.490737563232042\n"
          ],
          "name": "stdout"
        }
      ]
    },
    {
      "cell_type": "markdown",
      "metadata": {
        "id": "SI-z-DCXhx3u"
      },
      "source": [
        "### Your Turn!"
      ]
    },
    {
      "cell_type": "code",
      "metadata": {
        "id": "VAAPmQl1h3bd"
      },
      "source": [
        "# find and print the distance between you and another user\n",
        "# delete the '#' before the following line, and fill in your name/alias\n",
        "#me=ratings.loc['your name/alias']"
      ],
      "execution_count": null,
      "outputs": []
    },
    {
      "cell_type": "markdown",
      "metadata": {
        "id": "fREzGoxjNGbQ"
      },
      "source": [
        "# Predicting if someone will like a song"
      ]
    },
    {
      "cell_type": "markdown",
      "metadata": {
        "id": "mTlQzOluNL0v"
      },
      "source": [
        "When I set this up, I had not heard the song \"7 Rings\" by Ariana Grande, so I tried to predict whether I would like it.\n",
        "\n",
        "To start of, I looked at all the ratings:\n",
        "\n"
      ]
    },
    {
      "cell_type": "code",
      "metadata": {
        "id": "eFJ_qnzSUPkh",
        "colab": {
          "base_uri": "https://localhost:8080/",
          "height": 51
        },
        "outputId": "f7feac2c-3b5d-40a3-b238-71aae79d9d7b"
      },
      "source": [
        "print(\"The ratings for 7 Rings are:\")\n",
        "ratings_7rings=ratings['7 Rings (Ariana Grande)'].tolist()\n",
        "print(ratings_7rings)"
      ],
      "execution_count": null,
      "outputs": [
        {
          "output_type": "stream",
          "text": [
            "The ratings for 7 Rings are:\n",
            "[0.0, 5.0, 3.0, 4.0, 3.0, 3.0, 3.0, 0.0]\n"
          ],
          "name": "stdout"
        }
      ]
    },
    {
      "cell_type": "markdown",
      "metadata": {
        "id": "5D_HLBIom21-"
      },
      "source": [
        "### Your Turn!"
      ]
    },
    {
      "cell_type": "code",
      "metadata": {
        "id": "fagDw5sym3Om"
      },
      "source": [
        "# choose a song you have not heard yet\n",
        "# fill it in below, delete the '#', and print it\n",
        "#ratings_for_mysong=ratings['your song'].tolist()"
      ],
      "execution_count": null,
      "outputs": []
    },
    {
      "cell_type": "markdown",
      "metadata": {
        "id": "bgVmbNNnn_kH"
      },
      "source": [
        "# Find closest user"
      ]
    },
    {
      "cell_type": "markdown",
      "metadata": {
        "id": "t6t6_A8EUOvA"
      },
      "source": [
        "How do we predict if someone will like a song?\n",
        "\n",
        "We'll try a simple version of what Spotify does.\n",
        "\n",
        "It starts with figuring out who has the most similar tastes to me (Jack), which could be done like this:\n"
      ]
    },
    {
      "cell_type": "code",
      "metadata": {
        "id": "MmlQmQnuOi51",
        "colab": {
          "base_uri": "https://localhost:8080/",
          "height": 119
        },
        "outputId": "022a8231-bba7-4194-e341-dc74b14a8b09"
      },
      "source": [
        "jack=ratings.loc['Jack']\n",
        "nick=ratings.loc['Nick']\n",
        "joe=ratings.loc['Joe']\n",
        "trevor=ratings.loc['Trevor']\n",
        "\n",
        "print(\"Distance between Jack and Nick:\")\n",
        "print(distance(jack,nick))\n",
        "print(\"Distance between Jack and Joe:\")\n",
        "print(distance(jack,joe))\n",
        "print(\"Distance between Jack and Trevor:\")\n",
        "print(distance(jack,trevor))"
      ],
      "execution_count": null,
      "outputs": [
        {
          "output_type": "stream",
          "text": [
            "Similarity between Jack and Nick:\n",
            "10.63014581273465\n",
            "Similarity between Jack and Joe:\n",
            "9.219544457292887\n",
            "Similarity between Jack and Trevor:\n",
            "13.490737563232042\n"
          ],
          "name": "stdout"
        }
      ]
    },
    {
      "cell_type": "markdown",
      "metadata": {
        "id": "Hfp3_739Q5XO"
      },
      "source": [
        "Or, it could be done automatically, with a *for loop*, which you all saw last week with Earsketch.\n",
        "\n",
        "This part is a little more complicated, so feel free to ignore, but let me know if you want to know what's going on."
      ]
    },
    {
      "cell_type": "code",
      "metadata": {
        "id": "aJcAit3vQ8lb"
      },
      "source": [
        "def most_similar_to(name):\n",
        "  person = ratings.loc[name]\n",
        "  closest_distance=float('inf')\n",
        "  closest_person=''\n",
        "  for other_person in ratings.itertuples():\n",
        "    if other_person.Index==name:\n",
        "      # don't compare a person to themself\n",
        "      continue\n",
        "    distance_to_other_person = distance(person,ratings.loc[other_person.Index])\n",
        "    if distance_to_other_person < closest_distance:\n",
        "      # new high score! save it\n",
        "      closest_distance = distance_to_other_person\n",
        "      closest_person = other_person.Index\n",
        "  return closest_person, closest_distance\n"
      ],
      "execution_count": null,
      "outputs": []
    },
    {
      "cell_type": "markdown",
      "metadata": {
        "id": "V6seveOzUiCe"
      },
      "source": [
        "Now that I defined `most_similar_to`, it can be used pretty easily:"
      ]
    },
    {
      "cell_type": "code",
      "metadata": {
        "id": "Yw-tkpMmUpFu",
        "colab": {
          "base_uri": "https://localhost:8080/",
          "height": 68
        },
        "outputId": "58b9dd41-aec4-48db-c442-f78d37fbef5d"
      },
      "source": [
        "print(\"Jack is most similar to:\")\n",
        "person_most_similar_to_jack,distance = most_similar_to('Jack')\n",
        "print(person_most_similar_to_jack)\n",
        "print(distance)"
      ],
      "execution_count": null,
      "outputs": [
        {
          "output_type": "stream",
          "text": [
            "Jack is most similar to:\n",
            "Meg\n",
            "8.660254037844387\n"
          ],
          "name": "stdout"
        }
      ]
    },
    {
      "cell_type": "markdown",
      "metadata": {
        "id": "khd2aju6kfZ2"
      },
      "source": [
        "### Your Turn! "
      ]
    },
    {
      "cell_type": "code",
      "metadata": {
        "id": "2YIupVUPnt27"
      },
      "source": [
        "# find the person most similar to you and print it\n",
        "#person_most_similar_to_me,distance = most_similar_to('my name/alias')"
      ],
      "execution_count": null,
      "outputs": []
    },
    {
      "cell_type": "markdown",
      "metadata": {
        "id": "SZW2xxvEoFyc"
      },
      "source": [
        "# Look at closest user's ratings"
      ]
    },
    {
      "cell_type": "markdown",
      "metadata": {
        "id": "UhP15DopPIQV"
      },
      "source": [
        "At the time I tested this, I was most similar to Meg, so I looked at how Meg rated 7 Rings:"
      ]
    },
    {
      "cell_type": "code",
      "metadata": {
        "id": "HuYd_4NTPPSi",
        "colab": {
          "base_uri": "https://localhost:8080/",
          "height": 51
        },
        "outputId": "dd62b2e9-9983-4f86-c907-0d314288d14f"
      },
      "source": [
        "print(\"Meg's rating of the song '7 Rings:'\")\n",
        "print(ratings.at['Meg', '7 Rings (Ariana Grande)'])"
      ],
      "execution_count": null,
      "outputs": [
        {
          "output_type": "stream",
          "text": [
            "Meg's rating of the song '7 Rings:'\n",
            "3.0\n"
          ],
          "name": "stdout"
        }
      ]
    },
    {
      "cell_type": "markdown",
      "metadata": {
        "id": "52Zq8PTAUGPg"
      },
      "source": [
        "Based on this prediction, I probably won't be too crazy about this Ariana Grande song.\n"
      ]
    },
    {
      "cell_type": "markdown",
      "metadata": {
        "id": "eGAWjpOCoLk8"
      },
      "source": [
        "### Your Turn!"
      ]
    },
    {
      "cell_type": "code",
      "metadata": {
        "id": "pSwg3Jv5oNfc"
      },
      "source": [
        "# fill in the following line with the song you chose and the person most similar to you\n",
        "#print(ratings.at['person most similar to you', 'song'])"
      ],
      "execution_count": null,
      "outputs": []
    }
  ]
}