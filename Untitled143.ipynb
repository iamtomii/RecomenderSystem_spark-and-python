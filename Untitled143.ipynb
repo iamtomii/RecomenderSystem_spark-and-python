{
  "nbformat": 4,
  "nbformat_minor": 0,
  "metadata": {
    "colab": {
      "name": "Untitled143.ipynb",
      "provenance": []
    },
    "kernelspec": {
      "name": "python3",
      "display_name": "Python 3"
    },
    "language_info": {
      "name": "python"
    }
  },
  "cells": [
    {
      "cell_type": "code",
      "metadata": {
        "colab": {
          "base_uri": "https://localhost:8080/"
        },
        "id": "0fO4gZe41mjb",
        "outputId": "1d79643b-7fee-4b56-baef-61a9f425ae0f"
      },
      "source": [
        "pip install pyspark"
      ],
      "execution_count": 1,
      "outputs": [
        {
          "output_type": "stream",
          "text": [
            "Collecting pyspark\n",
            "\u001b[?25l  Downloading https://files.pythonhosted.org/packages/45/b0/9d6860891ab14a39d4bddf80ba26ce51c2f9dc4805e5c6978ac0472c120a/pyspark-3.1.1.tar.gz (212.3MB)\n",
            "\u001b[K     |████████████████████████████████| 212.3MB 68kB/s \n",
            "\u001b[?25hCollecting py4j==0.10.9\n",
            "\u001b[?25l  Downloading https://files.pythonhosted.org/packages/9e/b6/6a4fb90cd235dc8e265a6a2067f2a2c99f0d91787f06aca4bcf7c23f3f80/py4j-0.10.9-py2.py3-none-any.whl (198kB)\n",
            "\u001b[K     |████████████████████████████████| 204kB 48.2MB/s \n",
            "\u001b[?25hBuilding wheels for collected packages: pyspark\n",
            "  Building wheel for pyspark (setup.py) ... \u001b[?25l\u001b[?25hdone\n",
            "  Created wheel for pyspark: filename=pyspark-3.1.1-py2.py3-none-any.whl size=212767604 sha256=c2c89532f0a9868204708a997571b68abd2456b03490163e32f017fa25ad34d0\n",
            "  Stored in directory: /root/.cache/pip/wheels/0b/90/c0/01de724414ef122bd05f056541fb6a0ecf47c7ca655f8b3c0f\n",
            "Successfully built pyspark\n",
            "Installing collected packages: py4j, pyspark\n",
            "Successfully installed py4j-0.10.9 pyspark-3.1.1\n"
          ],
          "name": "stdout"
        }
      ]
    },
    {
      "cell_type": "code",
      "metadata": {
        "id": "8E1owObe3EgQ"
      },
      "source": [
        "from pyspark.sql import SparkSession\n",
        "from pyspark import SparkConf, SparkContext\n",
        "import pandas as pd "
      ],
      "execution_count": 2,
      "outputs": []
    },
    {
      "cell_type": "code",
      "metadata": {
        "id": "em514ZOP1_zj"
      },
      "source": [
        "appName = \"Recommender System in Spark\"\n",
        "spark = SparkSession.builder.appName('appName').getOrCreate()"
      ],
      "execution_count": 3,
      "outputs": []
    },
    {
      "cell_type": "code",
      "metadata": {
        "id": "sqCrfkJG3Ni3"
      },
      "source": [
        "df = spark.read.csv('Video_Games_Sales_as_at_22_Dec_2016.csv', inferSchema=True, header=True)"
      ],
      "execution_count": 12,
      "outputs": []
    },
    {
      "cell_type": "code",
      "metadata": {
        "colab": {
          "base_uri": "https://localhost:8080/"
        },
        "id": "vt8RFu2D3caF",
        "outputId": "5b6321f9-66e2-4fa3-a8ed-7e574e27a041"
      },
      "source": [
        "df.show()"
      ],
      "execution_count": 13,
      "outputs": [
        {
          "output_type": "stream",
          "text": [
            "+-------+--------------------+--------+---------------+---------+--------------------+--------+--------+--------+-----------+------------+-------+------------+--------------------+------------+------------+\n",
            "|Game_id|                Name|Platform|Year_of_Release|    Genre|           Publisher|NA_Sales|EU_Sales|JP_Sales|Other_Sales|Global_Sales|User_ID|Critic_Count|           Developer|Rating_Score|Rating_Count|\n",
            "+-------+--------------------+--------+---------------+---------+--------------------+--------+--------+--------+-----------+------------+-------+------------+--------------------+------------+------------+\n",
            "|   2836|My Little Pony: P...|      DS|           2008|Adventure|                 THQ|    0.66|     0.0|     0.0|       0.06|        0.72|     51|        null|                 THQ|         0.0|           4|\n",
            "|   4616|The Fairly Odd Pa...|     GBA|           2004|     Misc|                 N/A|     0.3|    0.11|     0.0|       0.01|        0.42|     58|        null|                null|         0.0|        null|\n",
            "|   7000|Shaun White Snowb...|      DS|           2008|   Sports|             Ubisoft|    0.21|     0.0|     0.0|       0.02|        0.23|     63|           4|             Ubisoft|         0.0|        null|\n",
            "|  15190|Indianapolis 500 ...|    X360|           2009|   Racing|         Zushi Games|    0.02|     0.0|     0.0|        0.0|        0.02|     86|        null|           Destineer|         0.0|        null|\n",
            "|   4620|Taiko no Tatsujin...|      DS|           2010|     Misc|  Namco Bandai Games|     0.0|     0.0|    0.42|        0.0|        0.42|     58|        null|                null|         0.2|        null|\n",
            "|   4627|Kumamon Bomber: P...|      GC|           2005|   Puzzle|                Sega|    0.32|    0.08|     0.0|       0.01|        0.42|     58|        null|                null|         0.2|        null|\n",
            "|   7006|    NHL FaceOff 2001|      PS|           2000|   Sports|Sony Computer Ent...|    0.13|    0.09|     0.0|       0.02|        0.23|     78|          11|            SolWorks|         0.2|        null|\n",
            "|   7007|Cabela's Outdoor ...|     PS3|           2009|   Sports|    Activision Value|    0.21|     0.0|     0.0|       0.02|        0.23|     65|        null|            FUN Labs|         0.2|        null|\n",
            "|   9972|       Madden NFL 17|     PS3|           2016|   Sports|     Electronic Arts|    0.07|    0.02|     0.0|       0.02|        0.12|     72|        null|           EA Sports|         0.2|           5|\n",
            "|  13684|Myth Makers: Trix...|     Wii|           2008| Platform|      Popcorn Arcade|    0.04|     0.0|     0.0|        0.0|        0.04|     81|        null|Data Design Inter...|         0.2|           5|\n",
            "|  15193|      Crazy Machines|     Wii|           2010|   Puzzle|   DTP Entertainment|    0.01|    0.01|     0.0|        0.0|        0.02|     86|        null|       FAKT Software|         0.2|        null|\n",
            "|  15205|Thomas and Friend...|     3DS|           2015|   Action|  Avanquest Software|     0.0|    0.02|     0.0|        0.0|        0.02|     86|        null|  Avanquest Software|         0.2|        null|\n",
            "|   4630|International Sup...|      PS|           1998|   Sports|Konami Digital En...|    0.02|    0.02|    0.35|       0.03|        0.42|     58|        null|                null|         0.3|        null|\n",
            "|   4632|Jimmy Neutron: Bo...|     GBA|           2001| Platform|                 THQ|     0.3|    0.11|     0.0|       0.01|        0.42|     58|        null|                null|         0.3|        null|\n",
            "|   5765|          Happy Feet|      DS|           2006|   Action|        Midway Games|    0.27|    0.01|     0.0|       0.02|        0.31|     61|        null|Artificial Mind a...|         0.3|           9|\n",
            "|   7014|Jewels of the Tro...|      DS|           2010|   Puzzle|    Storm City Games|    0.11|     0.1|     0.0|       0.02|        0.23|     65|        null|    City Interactive|         0.3|        null|\n",
            "|   7015|Sherlock Holmes a...|      DS|           2010|Adventure|Focus Home Intera...|    0.07|    0.14|     0.0|       0.03|        0.23|     48|          11|           Frogwares|         0.3|        null|\n",
            "|  13382|Billy the Wizard:...|     Wii|           2007|   Racing|            Metro 3D|    0.04|     0.0|     0.0|        0.0|        0.05|     80|        null|Data Design Inter...|         0.3|           4|\n",
            "|  15208|   Samurai Shodown V|      XB|           2006| Fighting|Ignition Entertai...|    0.02|     0.0|     0.0|        0.0|        0.02|     58|          29|                 SNK|         0.3|        null|\n",
            "|  15217|Ice Age: Dawn of ...|      PC|           2009|   Action|          Activision|    0.02|     0.0|     0.0|        0.0|        0.02|     67|           5|          Activision|         0.3|        null|\n",
            "+-------+--------------------+--------+---------------+---------+--------------------+--------+--------+--------+-----------+------------+-------+------------+--------------------+------------+------------+\n",
            "only showing top 20 rows\n",
            "\n"
          ],
          "name": "stdout"
        }
      ]
    },
    {
      "cell_type": "code",
      "metadata": {
        "id": "13gnkPp-o1oy"
      },
      "source": [
        "df1 = df.select(\"Game_id\", \"User_ID\", \"Rating_Score\")"
      ],
      "execution_count": 17,
      "outputs": []
    },
    {
      "cell_type": "code",
      "metadata": {
        "colab": {
          "base_uri": "https://localhost:8080/"
        },
        "id": "RdSyxo7Ko8NC",
        "outputId": "b1eb7f30-0ee0-4994-e1ad-eb01f5128832"
      },
      "source": [
        "df1.show()"
      ],
      "execution_count": 21,
      "outputs": [
        {
          "output_type": "stream",
          "text": [
            "+-------+-------+------------+\n",
            "|Game_id|User_ID|Rating_Score|\n",
            "+-------+-------+------------+\n",
            "|   2836|     51|         0.0|\n",
            "|   4616|     58|         0.0|\n",
            "|   7000|     63|         0.0|\n",
            "|  15190|     86|         0.0|\n",
            "|   4620|     58|         0.2|\n",
            "|   4627|     58|         0.2|\n",
            "|   7006|     78|         0.2|\n",
            "|   7007|     65|         0.2|\n",
            "|   9972|     72|         0.2|\n",
            "|  13684|     81|         0.2|\n",
            "|  15193|     86|         0.2|\n",
            "|  15205|     86|         0.2|\n",
            "|   4630|     58|         0.3|\n",
            "|   4632|     58|         0.3|\n",
            "|   5765|     61|         0.3|\n",
            "|   7014|     65|         0.3|\n",
            "|   7015|     48|         0.3|\n",
            "|  13382|     80|         0.3|\n",
            "|  15208|     58|         0.3|\n",
            "|  15217|     67|         0.3|\n",
            "+-------+-------+------------+\n",
            "only showing top 20 rows\n",
            "\n"
          ],
          "name": "stdout"
        }
      ]
    },
    {
      "cell_type": "code",
      "metadata": {
        "id": "CB_kngX8NHFV"
      },
      "source": [
        "(train,test) = df1.randomSplit([0.8,0.2])"
      ],
      "execution_count": 18,
      "outputs": []
    },
    {
      "cell_type": "code",
      "metadata": {
        "id": "J4Rb4Z4QHe1m"
      },
      "source": [
        "from pyspark.ml.recommendation import ALS"
      ],
      "execution_count": 19,
      "outputs": []
    },
    {
      "cell_type": "code",
      "metadata": {
        "id": "F7SgEzrMH0s7"
      },
      "source": [
        "als=ALS(maxIter=10,\n",
        "        regParam=0.09,\n",
        "        rank=25,\n",
        "        userCol=\"User_ID\",\n",
        "        itemCol=\"Game_id\",\n",
        "        ratingCol=\"Rating_Score\",\n",
        "        coldStartStrategy=\"drop\",\n",
        "        nonnegative=True)\n",
        "\n",
        "model=als.fit(train)"
      ],
      "execution_count": 22,
      "outputs": []
    },
    {
      "cell_type": "code",
      "metadata": {
        "colab": {
          "base_uri": "https://localhost:8080/"
        },
        "id": "QMemuwfnpdQ3",
        "outputId": "766a8366-28e9-471a-d79b-c8b1450a0254"
      },
      "source": [
        "#Predict testing data\n",
        "prediction = model.transform(test)\n",
        "print(\"testing is done!\")"
      ],
      "execution_count": 23,
      "outputs": [
        {
          "output_type": "stream",
          "text": [
            "testing is done!\n"
          ],
          "name": "stdout"
        }
      ]
    },
    {
      "cell_type": "code",
      "metadata": {
        "colab": {
          "base_uri": "https://localhost:8080/"
        },
        "id": "0coHJwUBpftz",
        "outputId": "499dbad7-5a76-4be0-d46c-5b26976591e9"
      },
      "source": [
        "prediction.join(df, \"Game_id\").select(\"Name\", \"prediction\").show(n=10, truncate=False)"
      ],
      "execution_count": 26,
      "outputs": [
        {
          "output_type": "stream",
          "text": [
            "+----+----------+\n",
            "|Name|prediction|\n",
            "+----+----------+\n",
            "+----+----------+\n",
            "\n"
          ],
          "name": "stdout"
        }
      ]
    }
  ]
}