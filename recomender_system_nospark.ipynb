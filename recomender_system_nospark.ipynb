{
  "nbformat": 4,
  "nbformat_minor": 0,
  "metadata": {
    "kernelspec": {
      "display_name": "Python 3",
      "language": "python",
      "name": "python3"
    },
    "language_info": {
      "codemirror_mode": {
        "name": "ipython",
        "version": 3
      },
      "file_extension": ".py",
      "mimetype": "text/x-python",
      "name": "python",
      "nbconvert_exporter": "python",
      "pygments_lexer": "ipython3",
      "version": "3.6.4"
    },
    "colab": {
      "name": "recomender-system_nospark.ipynb",
      "provenance": [],
      "toc_visible": true
    }
  },
  "cells": [
    {
      "cell_type": "code",
      "metadata": {
        "_uuid": "c1fdd129c1cbab68ae3e6bf2062575f01f80b87c",
        "id": "m3RPmYOdGY2d"
      },
      "source": [
        "import pandas as pd \n",
        "import numpy as np \n",
        "df=pd.read_csv('Video_Games_Sales_as_at_22_Dec_2016.csv')\n"
      ],
      "execution_count": 25,
      "outputs": []
    },
    {
      "cell_type": "code",
      "metadata": {
        "_uuid": "71d266ed92947c51acf07189d3b42379134ef6e7",
        "colab": {
          "base_uri": "https://localhost:8080/",
          "height": 276
        },
        "id": "oTVooflmGY2g",
        "outputId": "5315eda6-30ba-4b9a-d2af-f0661baf9a54"
      },
      "source": [
        "df.head(5)"
      ],
      "execution_count": 26,
      "outputs": [
        {
          "output_type": "execute_result",
          "data": {
            "text/html": [
              "<div>\n",
              "<style scoped>\n",
              "    .dataframe tbody tr th:only-of-type {\n",
              "        vertical-align: middle;\n",
              "    }\n",
              "\n",
              "    .dataframe tbody tr th {\n",
              "        vertical-align: top;\n",
              "    }\n",
              "\n",
              "    .dataframe thead th {\n",
              "        text-align: right;\n",
              "    }\n",
              "</style>\n",
              "<table border=\"1\" class=\"dataframe\">\n",
              "  <thead>\n",
              "    <tr style=\"text-align: right;\">\n",
              "      <th></th>\n",
              "      <th>Game_id</th>\n",
              "      <th>Name</th>\n",
              "      <th>Platform</th>\n",
              "      <th>Year_of_Release</th>\n",
              "      <th>Genre</th>\n",
              "      <th>Publisher</th>\n",
              "      <th>NA_Sales</th>\n",
              "      <th>EU_Sales</th>\n",
              "      <th>JP_Sales</th>\n",
              "      <th>Other_Sales</th>\n",
              "      <th>Global_Sales</th>\n",
              "      <th>Critic_Score</th>\n",
              "      <th>Critic_Count</th>\n",
              "      <th>Developer</th>\n",
              "      <th>Rating_Score</th>\n",
              "      <th>Rating_Count</th>\n",
              "    </tr>\n",
              "  </thead>\n",
              "  <tbody>\n",
              "    <tr>\n",
              "      <th>0</th>\n",
              "      <td>1</td>\n",
              "      <td>Wii Sports</td>\n",
              "      <td>Wii</td>\n",
              "      <td>2006.0</td>\n",
              "      <td>Sports</td>\n",
              "      <td>Nintendo</td>\n",
              "      <td>41.36</td>\n",
              "      <td>28.96</td>\n",
              "      <td>3.77</td>\n",
              "      <td>8.45</td>\n",
              "      <td>82.53</td>\n",
              "      <td>76.0</td>\n",
              "      <td>51.0</td>\n",
              "      <td>Nintendo</td>\n",
              "      <td>8.0</td>\n",
              "      <td>322.0</td>\n",
              "    </tr>\n",
              "    <tr>\n",
              "      <th>1</th>\n",
              "      <td>2</td>\n",
              "      <td>Super Mario Bros.</td>\n",
              "      <td>NES</td>\n",
              "      <td>1985.0</td>\n",
              "      <td>Platform</td>\n",
              "      <td>Nintendo</td>\n",
              "      <td>29.08</td>\n",
              "      <td>3.58</td>\n",
              "      <td>6.81</td>\n",
              "      <td>0.77</td>\n",
              "      <td>40.24</td>\n",
              "      <td>NaN</td>\n",
              "      <td>NaN</td>\n",
              "      <td>NaN</td>\n",
              "      <td>3.4</td>\n",
              "      <td>NaN</td>\n",
              "    </tr>\n",
              "    <tr>\n",
              "      <th>2</th>\n",
              "      <td>3</td>\n",
              "      <td>Mario Kart Wii</td>\n",
              "      <td>Wii</td>\n",
              "      <td>2008.0</td>\n",
              "      <td>Racing</td>\n",
              "      <td>Nintendo</td>\n",
              "      <td>15.68</td>\n",
              "      <td>12.76</td>\n",
              "      <td>3.79</td>\n",
              "      <td>3.29</td>\n",
              "      <td>35.52</td>\n",
              "      <td>82.0</td>\n",
              "      <td>73.0</td>\n",
              "      <td>Nintendo</td>\n",
              "      <td>8.3</td>\n",
              "      <td>709.0</td>\n",
              "    </tr>\n",
              "    <tr>\n",
              "      <th>3</th>\n",
              "      <td>4</td>\n",
              "      <td>Wii Sports Resort</td>\n",
              "      <td>Wii</td>\n",
              "      <td>2009.0</td>\n",
              "      <td>Sports</td>\n",
              "      <td>Nintendo</td>\n",
              "      <td>15.61</td>\n",
              "      <td>10.93</td>\n",
              "      <td>3.28</td>\n",
              "      <td>2.95</td>\n",
              "      <td>32.77</td>\n",
              "      <td>80.0</td>\n",
              "      <td>73.0</td>\n",
              "      <td>Nintendo</td>\n",
              "      <td>8.0</td>\n",
              "      <td>192.0</td>\n",
              "    </tr>\n",
              "    <tr>\n",
              "      <th>4</th>\n",
              "      <td>5</td>\n",
              "      <td>Pokemon Red/Pokemon Blue</td>\n",
              "      <td>GB</td>\n",
              "      <td>1996.0</td>\n",
              "      <td>Role-Playing</td>\n",
              "      <td>Nintendo</td>\n",
              "      <td>11.27</td>\n",
              "      <td>8.89</td>\n",
              "      <td>10.22</td>\n",
              "      <td>1.00</td>\n",
              "      <td>31.37</td>\n",
              "      <td>NaN</td>\n",
              "      <td>NaN</td>\n",
              "      <td>NaN</td>\n",
              "      <td>3.4</td>\n",
              "      <td>NaN</td>\n",
              "    </tr>\n",
              "  </tbody>\n",
              "</table>\n",
              "</div>"
            ],
            "text/plain": [
              "   Game_id                      Name  ... Rating_Score  Rating_Count\n",
              "0        1                Wii Sports  ...          8.0         322.0\n",
              "1        2         Super Mario Bros.  ...          3.4           NaN\n",
              "2        3            Mario Kart Wii  ...          8.3         709.0\n",
              "3        4         Wii Sports Resort  ...          8.0         192.0\n",
              "4        5  Pokemon Red/Pokemon Blue  ...          3.4           NaN\n",
              "\n",
              "[5 rows x 16 columns]"
            ]
          },
          "metadata": {
            "tags": []
          },
          "execution_count": 26
        }
      ]
    },
    {
      "cell_type": "code",
      "metadata": {
        "_uuid": "5799b99c5e5ed5b7723ae8b31e1fc9fb1e7b89ec",
        "colab": {
          "base_uri": "https://localhost:8080/"
        },
        "id": "-WDCvRSLGY2j",
        "outputId": "6b82ff1b-4ddd-4b8a-f1fe-985022574e7f"
      },
      "source": [
        "## **Demographic Filtering** -\n",
        "   #Đầu tiên ta cần xếp hạng các game\n",
        " #tính score mỗi game\n",
        " #đưa ra bảng các game tốt nhất\n",
        "\n",
        "# Công thức:\n",
        "  #(v/(v+m) * R) + (m/(m+v) * C)\n",
        "# v số lượt rate\n",
        "# m số lượt rate tối thiểu để có trên bảng xếp hạng\n",
        "# R xếp hạng trung bình của game\n",
        "# C rating score\n",
        "\n",
        "#chúng ta có v và R cần tính c\n",
        "C= df['Rating_Score'].mean()\n",
        "C"
      ],
      "execution_count": 27,
      "outputs": [
        {
          "output_type": "execute_result",
          "data": {
            "text/plain": [
              "6.136104915006595"
            ]
          },
          "metadata": {
            "tags": []
          },
          "execution_count": 27
        }
      ]
    },
    {
      "cell_type": "code",
      "metadata": {
        "_uuid": "f2f1eaff1e4349b5d2d11dd5ce79c19a85561148",
        "colab": {
          "base_uri": "https://localhost:8080/"
        },
        "id": "Ww6ACMU-GY2k",
        "outputId": "ac1e7171-15f3-4508-d86e-f1ddf6a904fe"
      },
      "source": [
        "#để có thể có trên bảng xếp hạng game đó phải có lượt rate >90%\n",
        "m= df['Rating_Count'].quantile(0.9)\n",
        "m"
      ],
      "execution_count": 28,
      "outputs": [
        {
          "output_type": "execute_result",
          "data": {
            "text/plain": [
              "315.10000000000036"
            ]
          },
          "metadata": {
            "tags": []
          },
          "execution_count": 28
        }
      ]
    },
    {
      "cell_type": "code",
      "metadata": {
        "_uuid": "a22008df6d81d3b716d39a56efd3d547345bfbce",
        "id": "wzzShd9LGY2k",
        "colab": {
          "base_uri": "https://localhost:8080/"
        },
        "outputId": "e7c2d249-85c9-4e2f-d53f-18cb5c9d870c"
      },
      "source": [
        "#lọc các game đủ diều kiện cho rank\n",
        "game_rank = df.copy().loc[df['Rating_Count'] >= m]\n",
        "game_rank.shape"
      ],
      "execution_count": 29,
      "outputs": [
        {
          "output_type": "execute_result",
          "data": {
            "text/plain": [
              "(759, 16)"
            ]
          },
          "metadata": {
            "tags": []
          },
          "execution_count": 29
        }
      ]
    },
    {
      "cell_type": "code",
      "metadata": {
        "_uuid": "bb680ed0fb1c3020785d34152c57c6e2279d4424",
        "id": "Z_LIl9S9GY2l"
      },
      "source": [
        "def weighted_rating(x, m=m, C=C):\n",
        "    v = x['Rating_Count']\n",
        "    R = x['Rating_Score']\n",
        "    return (v/(v+m) * R) + (m/(m+v) * C)"
      ],
      "execution_count": 30,
      "outputs": []
    },
    {
      "cell_type": "code",
      "metadata": {
        "_uuid": "d2d189929715237ab19a18fb8747239b86092968",
        "id": "iJJl9TzeGY2l"
      },
      "source": [
        "#tạo cột score\n",
        "game_rank['score'] = game_rank.apply(weighted_rating, axis=1)"
      ],
      "execution_count": 31,
      "outputs": []
    },
    {
      "cell_type": "code",
      "metadata": {
        "_uuid": "a9a9fc3810ea67c31908bbdf8bb930daa918102b",
        "id": "w0FyssDPGY2m",
        "colab": {
          "base_uri": "https://localhost:8080/",
          "height": 335
        },
        "outputId": "274ccd23-27d4-43a1-ef19-03d1007ca25a"
      },
      "source": [
        "#Sort\n",
        "game_rank = game_rank.sort_values('score', ascending=False)\n",
        "\n",
        "#Print the top 15 rank\n",
        "game_rank[['Name', 'Rating_Count', 'Rating_Score', 'score']].head(10)"
      ],
      "execution_count": 32,
      "outputs": [
        {
          "output_type": "execute_result",
          "data": {
            "text/html": [
              "<div>\n",
              "<style scoped>\n",
              "    .dataframe tbody tr th:only-of-type {\n",
              "        vertical-align: middle;\n",
              "    }\n",
              "\n",
              "    .dataframe tbody tr th {\n",
              "        vertical-align: top;\n",
              "    }\n",
              "\n",
              "    .dataframe thead th {\n",
              "        text-align: right;\n",
              "    }\n",
              "</style>\n",
              "<table border=\"1\" class=\"dataframe\">\n",
              "  <thead>\n",
              "    <tr style=\"text-align: right;\">\n",
              "      <th></th>\n",
              "      <th>Name</th>\n",
              "      <th>Rating_Count</th>\n",
              "      <th>Rating_Score</th>\n",
              "      <th>score</th>\n",
              "    </tr>\n",
              "  </thead>\n",
              "  <tbody>\n",
              "    <tr>\n",
              "      <th>2851</th>\n",
              "      <td>The Witcher 3: Wild Hunt</td>\n",
              "      <td>10665.0</td>\n",
              "      <td>9.3</td>\n",
              "      <td>9.209205</td>\n",
              "    </tr>\n",
              "    <tr>\n",
              "      <th>303</th>\n",
              "      <td>The Witcher 3: Wild Hunt</td>\n",
              "      <td>10179.0</td>\n",
              "      <td>9.2</td>\n",
              "      <td>9.108002</td>\n",
              "    </tr>\n",
              "    <tr>\n",
              "      <th>665</th>\n",
              "      <td>Half-Life 2</td>\n",
              "      <td>8665.0</td>\n",
              "      <td>9.1</td>\n",
              "      <td>8.996001</td>\n",
              "    </tr>\n",
              "    <tr>\n",
              "      <th>149</th>\n",
              "      <td>The Last of Us</td>\n",
              "      <td>8003.0</td>\n",
              "      <td>9.1</td>\n",
              "      <td>8.987724</td>\n",
              "    </tr>\n",
              "    <tr>\n",
              "      <th>1499</th>\n",
              "      <td>The Witcher 3: Wild Hunt</td>\n",
              "      <td>3963.0</td>\n",
              "      <td>9.2</td>\n",
              "      <td>8.974331</td>\n",
              "    </tr>\n",
              "    <tr>\n",
              "      <th>15293</th>\n",
              "      <td>Left 4 Dead</td>\n",
              "      <td>3717.0</td>\n",
              "      <td>9.2</td>\n",
              "      <td>8.960563</td>\n",
              "    </tr>\n",
              "    <tr>\n",
              "      <th>10106</th>\n",
              "      <td>Cory in the House</td>\n",
              "      <td>1273.0</td>\n",
              "      <td>9.5</td>\n",
              "      <td>8.832559</td>\n",
              "    </tr>\n",
              "    <tr>\n",
              "      <th>284</th>\n",
              "      <td>Half-Life</td>\n",
              "      <td>3161.0</td>\n",
              "      <td>9.1</td>\n",
              "      <td>8.831330</td>\n",
              "    </tr>\n",
              "    <tr>\n",
              "      <th>11288</th>\n",
              "      <td>Counter-Strike: Source</td>\n",
              "      <td>9851.0</td>\n",
              "      <td>8.9</td>\n",
              "      <td>8.814333</td>\n",
              "    </tr>\n",
              "    <tr>\n",
              "      <th>9143</th>\n",
              "      <td>The Orange Box</td>\n",
              "      <td>1495.0</td>\n",
              "      <td>9.3</td>\n",
              "      <td>8.749233</td>\n",
              "    </tr>\n",
              "  </tbody>\n",
              "</table>\n",
              "</div>"
            ],
            "text/plain": [
              "                           Name  Rating_Count  Rating_Score     score\n",
              "2851   The Witcher 3: Wild Hunt       10665.0           9.3  9.209205\n",
              "303    The Witcher 3: Wild Hunt       10179.0           9.2  9.108002\n",
              "665                 Half-Life 2        8665.0           9.1  8.996001\n",
              "149              The Last of Us        8003.0           9.1  8.987724\n",
              "1499   The Witcher 3: Wild Hunt        3963.0           9.2  8.974331\n",
              "15293               Left 4 Dead        3717.0           9.2  8.960563\n",
              "10106         Cory in the House        1273.0           9.5  8.832559\n",
              "284                   Half-Life        3161.0           9.1  8.831330\n",
              "11288    Counter-Strike: Source        9851.0           8.9  8.814333\n",
              "9143             The Orange Box        1495.0           9.3  8.749233"
            ]
          },
          "metadata": {
            "tags": []
          },
          "execution_count": 32
        }
      ]
    },
    {
      "cell_type": "code",
      "metadata": {
        "_uuid": "55df2df36be98e6dec5f617a5aa51b77c500faa4",
        "id": "Edu-QcReGY2r"
      },
      "source": [
        "#Construct a reverse map of indices and game name\n",
        "indices = pd.Series(df.index, index=df['Name']).drop_duplicates()\n"
      ],
      "execution_count": 33,
      "outputs": []
    },
    {
      "cell_type": "code",
      "metadata": {
        "colab": {
          "base_uri": "https://localhost:8080/"
        },
        "id": "VOYmlMEknUXh",
        "outputId": "ed487c7c-26f5-468a-9064-ab19f6fb1dcb"
      },
      "source": [
        "indices"
      ],
      "execution_count": 34,
      "outputs": [
        {
          "output_type": "execute_result",
          "data": {
            "text/plain": [
              "Name\n",
              "Wii Sports                           0\n",
              "Super Mario Bros.                    1\n",
              "Mario Kart Wii                       2\n",
              "Wii Sports Resort                    3\n",
              "Pokemon Red/Pokemon Blue             4\n",
              "                                 ...  \n",
              "Samurai Warriors: Sanada Maru    16714\n",
              "LMA Manager 2007                 16715\n",
              "Haitaka no Psychedelica          16716\n",
              "Spirits & Spells                 16717\n",
              "Winning Post 8 2016              16718\n",
              "Length: 16719, dtype: int64"
            ]
          },
          "metadata": {
            "tags": []
          },
          "execution_count": 34
        }
      ]
    },
    {
      "cell_type": "code",
      "metadata": {
        "_uuid": "9c383fcbb916dce464b01adf980d26ad96aebe0e",
        "id": "LiIOukdIGY2r"
      },
      "source": [
        "#hàm đưa ra game đề xuất\n",
        "def get_recommendations(name, cosine_sim):\n",
        "    idx = indices[name] # Get the index of the game\n",
        "    sim_scores = list(enumerate(cosine_sim[idx])) # lấy điểm tương đồng giữa các game\n",
        "    sim_scores = sorted(sim_scores, key=lambda x: x[1], reverse=True)# sắp xếp các game bằng điểm tương đồng\n",
        "    sim_scores = sim_scores[1:11]#lấy score của 10 game tương đồng\n",
        "    movie_indices = [i[0] for i in sim_scores]# lấy indices của game\n",
        "    # trả về tên \n",
        "    return df['Name'].iloc[movie_indices]"
      ],
      "execution_count": 35,
      "outputs": []
    },
    {
      "cell_type": "code",
      "metadata": {
        "_uuid": "87a96f835470aa3df590b74322c2717ff529d6ae",
        "id": "gCFTcUNdGY2u",
        "colab": {
          "base_uri": "https://localhost:8080/",
          "height": 133
        },
        "outputId": "dabd6921-32f9-41ae-a57d-43a4b0650263"
      },
      "source": [
        "#recomend dựa trên 'Genre', 'Publisher', 'Platform', 'Developer'\n",
        "df[['Genre', 'Publisher', 'Platform', 'Developer']].head(3)"
      ],
      "execution_count": 36,
      "outputs": [
        {
          "output_type": "execute_result",
          "data": {
            "text/html": [
              "<div>\n",
              "<style scoped>\n",
              "    .dataframe tbody tr th:only-of-type {\n",
              "        vertical-align: middle;\n",
              "    }\n",
              "\n",
              "    .dataframe tbody tr th {\n",
              "        vertical-align: top;\n",
              "    }\n",
              "\n",
              "    .dataframe thead th {\n",
              "        text-align: right;\n",
              "    }\n",
              "</style>\n",
              "<table border=\"1\" class=\"dataframe\">\n",
              "  <thead>\n",
              "    <tr style=\"text-align: right;\">\n",
              "      <th></th>\n",
              "      <th>Genre</th>\n",
              "      <th>Publisher</th>\n",
              "      <th>Platform</th>\n",
              "      <th>Developer</th>\n",
              "    </tr>\n",
              "  </thead>\n",
              "  <tbody>\n",
              "    <tr>\n",
              "      <th>0</th>\n",
              "      <td>Sports</td>\n",
              "      <td>Nintendo</td>\n",
              "      <td>Wii</td>\n",
              "      <td>Nintendo</td>\n",
              "    </tr>\n",
              "    <tr>\n",
              "      <th>1</th>\n",
              "      <td>Platform</td>\n",
              "      <td>Nintendo</td>\n",
              "      <td>NES</td>\n",
              "      <td>NaN</td>\n",
              "    </tr>\n",
              "    <tr>\n",
              "      <th>2</th>\n",
              "      <td>Racing</td>\n",
              "      <td>Nintendo</td>\n",
              "      <td>Wii</td>\n",
              "      <td>Nintendo</td>\n",
              "    </tr>\n",
              "  </tbody>\n",
              "</table>\n",
              "</div>"
            ],
            "text/plain": [
              "      Genre Publisher Platform Developer\n",
              "0    Sports  Nintendo      Wii  Nintendo\n",
              "1  Platform  Nintendo      NES       NaN\n",
              "2    Racing  Nintendo      Wii  Nintendo"
            ]
          },
          "metadata": {
            "tags": []
          },
          "execution_count": 36
        }
      ]
    },
    {
      "cell_type": "code",
      "metadata": {
        "_uuid": "86af764c406a8b6184b37b57cfe499d20ce45f9c",
        "id": "OaY-fLjqGY2v"
      },
      "source": [
        "\n",
        "def clean_data(x):\n",
        "    if isinstance(x, list):\n",
        "        return [str.lower(i.replace(\" \", \"\")) for i in x]\n",
        "    else:\n",
        "        if isinstance(x, str):\n",
        "            return str.lower(x.replace(\" \", \"\"))\n",
        "        else:\n",
        "            return ''"
      ],
      "execution_count": 37,
      "outputs": []
    },
    {
      "cell_type": "code",
      "metadata": {
        "_uuid": "5728cc017ff6ed1dcd79da05b1dd57a60557e853",
        "id": "UjNdSYP4GY2v"
      },
      "source": [
        "# làm sạch data\n",
        "features = ['Genre', 'Publisher', 'Platform', 'Developer']\n",
        "\n",
        "for feature in features:\n",
        "    df[feature] = df[feature].apply(clean_data)\n",
        "  "
      ],
      "execution_count": 38,
      "outputs": []
    },
    {
      "cell_type": "code",
      "metadata": {
        "colab": {
          "base_uri": "https://localhost:8080/",
          "height": 133
        },
        "id": "3vqOOGPkiE2E",
        "outputId": "165cc03a-fc44-40f3-b8c5-33288974a89c"
      },
      "source": [
        "df[['Genre', 'Publisher', 'Platform', 'Developer']].head(3)"
      ],
      "execution_count": 39,
      "outputs": [
        {
          "output_type": "execute_result",
          "data": {
            "text/html": [
              "<div>\n",
              "<style scoped>\n",
              "    .dataframe tbody tr th:only-of-type {\n",
              "        vertical-align: middle;\n",
              "    }\n",
              "\n",
              "    .dataframe tbody tr th {\n",
              "        vertical-align: top;\n",
              "    }\n",
              "\n",
              "    .dataframe thead th {\n",
              "        text-align: right;\n",
              "    }\n",
              "</style>\n",
              "<table border=\"1\" class=\"dataframe\">\n",
              "  <thead>\n",
              "    <tr style=\"text-align: right;\">\n",
              "      <th></th>\n",
              "      <th>Genre</th>\n",
              "      <th>Publisher</th>\n",
              "      <th>Platform</th>\n",
              "      <th>Developer</th>\n",
              "    </tr>\n",
              "  </thead>\n",
              "  <tbody>\n",
              "    <tr>\n",
              "      <th>0</th>\n",
              "      <td>sports</td>\n",
              "      <td>nintendo</td>\n",
              "      <td>wii</td>\n",
              "      <td>nintendo</td>\n",
              "    </tr>\n",
              "    <tr>\n",
              "      <th>1</th>\n",
              "      <td>platform</td>\n",
              "      <td>nintendo</td>\n",
              "      <td>nes</td>\n",
              "      <td></td>\n",
              "    </tr>\n",
              "    <tr>\n",
              "      <th>2</th>\n",
              "      <td>racing</td>\n",
              "      <td>nintendo</td>\n",
              "      <td>wii</td>\n",
              "      <td>nintendo</td>\n",
              "    </tr>\n",
              "  </tbody>\n",
              "</table>\n",
              "</div>"
            ],
            "text/plain": [
              "      Genre Publisher Platform Developer\n",
              "0    sports  nintendo      wii  nintendo\n",
              "1  platform  nintendo      nes          \n",
              "2    racing  nintendo      wii  nintendo"
            ]
          },
          "metadata": {
            "tags": []
          },
          "execution_count": 39
        }
      ]
    },
    {
      "cell_type": "code",
      "metadata": {
        "_uuid": "20aef87703c408926f7617573ed043605207767f",
        "id": "4a3ZplCqGY2w"
      },
      "source": [
        "#tạo 1 chuỗi chứa dữ liệu của 'Genre', 'Publisher', 'Platform', 'Developer'\n",
        "def create_soup(x):\n",
        "    return ' '.join(x['Genre']) + ' ' + ' '.join(x['Publisher']) + ' ' + x['Platform'] + ' ' + ' '.join(x['Developer'])\n",
        "df['soup'] = df.apply(create_soup, axis=1)"
      ],
      "execution_count": 40,
      "outputs": []
    },
    {
      "cell_type": "code",
      "metadata": {
        "_uuid": "b66a1afc1083917d5ef136ccdcd9b50cca087e2b",
        "id": "1gIMg58cGY2x"
      },
      "source": [
        "# Import CountVectorizer and tạo count matrix\n",
        "from sklearn.feature_extraction.text import CountVectorizer\n",
        "\n",
        "count = CountVectorizer(stop_words='english')\n",
        "count_matrix = count.fit_transform(df['soup'])"
      ],
      "execution_count": 41,
      "outputs": []
    },
    {
      "cell_type": "code",
      "metadata": {
        "_uuid": "3fa5539ed1680ed5323f8351ac7e4840f629e958",
        "id": "5ONWGEppGY2x"
      },
      "source": [
        "# tính Cosine Similarity matrix \n",
        "from sklearn.metrics.pairwise import cosine_similarity\n",
        "\n",
        "cosine_sim = cosine_similarity(count_matrix, count_matrix)"
      ],
      "execution_count": 42,
      "outputs": []
    },
    {
      "cell_type": "code",
      "metadata": {
        "_uuid": "b2b8565a04f4bda92d3ba9d15c348af1cd8f8b4d",
        "id": "7pEvWICWGY2y"
      },
      "source": [
        "df = df.reset_index()\n",
        "indices = pd.Series(df.index, index=df['Name'])"
      ],
      "execution_count": 43,
      "outputs": []
    },
    {
      "cell_type": "code",
      "metadata": {
        "_uuid": "d1e0e02be7a9e71422d3a492834cb4f8434d1464",
        "id": "TqnoCXpqGY2y"
      },
      "source": [
        "a=get_recommendations('Wii Sports Resort', cosine_sim)"
      ],
      "execution_count": 47,
      "outputs": []
    },
    {
      "cell_type": "code",
      "metadata": {
        "colab": {
          "base_uri": "https://localhost:8080/"
        },
        "id": "GD-7ZKPmrwUy",
        "outputId": "50b636ff-fbcd-41bd-c98c-0244bc62d183"
      },
      "source": [
        "a"
      ],
      "execution_count": 48,
      "outputs": [
        {
          "output_type": "execute_result",
          "data": {
            "text/plain": [
              "2                Mario Kart Wii\n",
              "3             Wii Sports Resort\n",
              "7                      Wii Play\n",
              "8     New Super Mario Bros. Wii\n",
              "13                      Wii Fit\n",
              "15                 Wii Fit Plus\n",
              "39      Super Smash Bros. Brawl\n",
              "49           Super Mario Galaxy\n",
              "61                 Just Dance 3\n",
              "68                 Just Dance 2\n",
              "Name: Name, dtype: object"
            ]
          },
          "metadata": {
            "tags": []
          },
          "execution_count": 48
        }
      ]
    },
    {
      "cell_type": "code",
      "metadata": {
        "id": "yutmCdikrK-e"
      },
      "source": [
        "b=get_recommendations('LMA Manager 2007', cosine_sim)\n"
      ],
      "execution_count": 49,
      "outputs": []
    },
    {
      "cell_type": "code",
      "metadata": {
        "colab": {
          "base_uri": "https://localhost:8080/"
        },
        "id": "IAbxXAgpr5ej",
        "outputId": "c46a5c9f-27af-4f8f-b1b1-5fd88660e895"
      },
      "source": [
        "b"
      ],
      "execution_count": 50,
      "outputs": [
        {
          "output_type": "execute_result",
          "data": {
            "text/plain": [
              "23                Grand Theft Auto V\n",
              "29    Call of Duty: Modern Warfare 3\n",
              "32           Call of Duty: Black Ops\n",
              "35        Call of Duty: Black Ops II\n",
              "36    Call of Duty: Modern Warfare 2\n",
              "44                            Halo 3\n",
              "51               Grand Theft Auto IV\n",
              "60              Call of Duty: Ghosts\n",
              "64                       Halo: Reach\n",
              "66                            Halo 4\n",
              "Name: Name, dtype: object"
            ]
          },
          "metadata": {
            "tags": []
          },
          "execution_count": 50
        }
      ]
    }
  ]
}